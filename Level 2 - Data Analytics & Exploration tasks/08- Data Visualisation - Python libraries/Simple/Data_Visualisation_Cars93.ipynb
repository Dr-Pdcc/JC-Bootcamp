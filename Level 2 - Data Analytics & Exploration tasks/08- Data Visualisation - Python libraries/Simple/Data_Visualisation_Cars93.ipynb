{
 "cells": [
  {
   "attachments": {},
   "cell_type": "markdown",
   "metadata": {
    "id": "VklYRGZC-Kpu"
   },
   "source": [
    "# Visualising car data"
   ]
  },
  {
   "attachments": {},
   "cell_type": "markdown",
   "metadata": {
    "id": "r9Z69_tY-Kp1"
   },
   "source": [
    " You may explore the [metadata for this dataset](https://jse.amstat.org/v1n1/datasets.lock.html) to gain a better understanding of the features. "
   ]
  },
  {
   "cell_type": "code",
   "execution_count": null,
   "metadata": {
    "id": "Rnc5j8RmojsL"
   },
   "outputs": [],
   "source": [
    "import matplotlib.pyplot as plt\n",
    "import pandas as pd\n",
    "import numpy as np\n",
    "\n",
    "# Inline indicates graphs should be presented as a cell output\n",
    "%matplotlib inline"
   ]
  },
  {
   "cell_type": "code",
   "execution_count": null,
   "metadata": {
    "id": "tL2cicIy-Kp4"
   },
   "outputs": [],
   "source": [
    "# Load data\n",
    "car_data = pd.read_csv('Cars93.csv', index_col = 0, keep_default_na=False) \n",
    "# Note the additional keep_default_na parameter which is set to False. This ensures\n",
    "# that pandas does not interpret the None string in the AirBags column as NaN."
   ]
  },
  {
   "attachments": {},
   "cell_type": "markdown",
   "metadata": {
    "id": "LWP4eQ2m-Kp5"
   },
   "source": [
    "## Explore the data"
   ]
  },
  {
   "cell_type": "code",
   "execution_count": null,
   "metadata": {
    "id": "-QNp7dlYojsf",
    "outputId": "138504e6-45de-4a01-81f4-14c23f99e8e2"
   },
   "outputs": [],
   "source": [
    "# Get column names\n",
    "car_data.columns"
   ]
  },
  {
   "cell_type": "code",
   "execution_count": null,
   "metadata": {
    "colab": {
     "base_uri": "https://localhost:8080/",
     "height": 182
    },
    "executionInfo": {
     "elapsed": 5,
     "status": "error",
     "timestamp": 1685975563135,
     "user": {
      "displayName": "Micaelan Halse",
      "userId": "01056114083350325147"
     },
     "user_tz": -120
    },
    "id": "c1Wxfedl-Kp8",
    "outputId": "cb63f7d4-6751-4eda-bcd0-b5c545813096"
   },
   "outputs": [],
   "source": [
    "# Get a random sample of data\n",
    "car_data.sample(5)"
   ]
  },
  {
   "cell_type": "code",
   "execution_count": null,
   "metadata": {
    "id": "WjaCswre-Kp8",
    "outputId": "94006385-abd9-4e73-f9db-986c135b6b83"
   },
   "outputs": [],
   "source": [
    "# Get numbers of row and column\n",
    "car_data.shape"
   ]
  },
  {
   "cell_type": "code",
   "execution_count": null,
   "metadata": {
    "id": "kbV7Vibgojsx",
    "outputId": "eabea5ff-07e3-422e-ac77-f1d09049bebf"
   },
   "outputs": [],
   "source": [
    "# Get list of unique manufacturers\n",
    "car_data['Manufacturer'].unique()"
   ]
  },
  {
   "cell_type": "code",
   "execution_count": null,
   "metadata": {
    "id": "KpPmgwqI-Kp-",
    "outputId": "c6074bc2-33b3-482c-a482-7d03c27c3fb2"
   },
   "outputs": [],
   "source": [
    "# Get the number of unique manufacturers\n",
    "car_data['Manufacturer'].nunique()"
   ]
  },
  {
   "attachments": {},
   "cell_type": "markdown",
   "metadata": {
    "id": "C5Jp1Sg5-Kp_"
   },
   "source": [
    "## Scatterplot examples"
   ]
  },
  {
   "attachments": {},
   "cell_type": "markdown",
   "metadata": {
    "id": "wGqZcf6R-Kp_"
   },
   "source": [
    "For simple plots you can either use the pandas `.plot()` method (which uses matplotlib as the default in its backend) or matplotlib. Below are examples of creating a scatterplot with both options."
   ]
  },
  {
   "attachments": {},
   "cell_type": "markdown",
   "metadata": {
    "id": "IMb-Jpzh-KqA"
   },
   "source": [
    "### pandas .plot() method"
   ]
  },
  {
   "cell_type": "code",
   "execution_count": null,
   "metadata": {
    "id": "rrJTeR51-KqB"
   },
   "outputs": [],
   "source": [
    "# Select features for scatterplot\n",
    "scatter_features = pd.DataFrame({'Horsepower': car_data['Horsepower'], \n",
    "                                'Price': car_data['Price']})"
   ]
  },
  {
   "cell_type": "code",
   "execution_count": null,
   "metadata": {
    "id": "qYbBFDVF-KqC",
    "outputId": "a2c1c4ac-3e45-456b-e056-dc0afdecdf84"
   },
   "outputs": [],
   "source": [
    "# Plot a bar chart showing the number of models in each airbag category\n",
    "scatter_features.plot.scatter(x='Horsepower', y='Price', \n",
    "                              legend=False, title=\"Horsepower vs Price\",\n",
    "                              ylabel=\"Average price of model\", xlabel=\"Horsepower (max)\",\n",
    "                              color='green')"
   ]
  },
  {
   "attachments": {},
   "cell_type": "markdown",
   "metadata": {
    "id": "7DYUZfSp-KqC"
   },
   "source": [
    "### matplotlib method"
   ]
  },
  {
   "cell_type": "code",
   "execution_count": null,
   "metadata": {
    "id": "ZfjVxERR-KqD",
    "outputId": "41a357cd-a1e7-47ac-8c57-9ed693b1506c"
   },
   "outputs": [],
   "source": [
    "# Select rows from the dataframe for plotting \n",
    "x = car_data['Horsepower'].values\n",
    "y = car_data['Price'].values\n",
    "\n",
    "# Create scatterplot\n",
    "plt.scatter(x,y,color = 'g')\n",
    "plt.title('Horsepower vs Price')\n",
    "plt.xlabel('Horsepower (max)')\n",
    "plt.ylabel('Average Price of model')\n",
    "plt.show()"
   ]
  },
  {
   "attachments": {},
   "cell_type": "markdown",
   "metadata": {
    "id": "oyEdE6YAojs4"
   },
   "source": [
    "## Groupby mean: barchart\n",
    "\n",
    "Group-by can be used to build groups of rows based on a specific feature in your dataset, e.g. the ‘Type’ categorical column. "
   ]
  },
  {
   "cell_type": "code",
   "execution_count": null,
   "metadata": {
    "id": "QTbA4g-r-KqF",
    "outputId": "c4fc35e1-0eec-496d-ade8-96070a03efdc"
   },
   "outputs": [],
   "source": [
    "# Group data by'Type'\n",
    "group_by_type = car_data.groupby(by=['Type'])\n",
    "\n",
    "# Get the mean (average) for each type across all columns\n",
    "# Note the mean can only be calculated for numeric values\n",
    "car_data_avg = round(group_by_type.mean(numeric_only=True), 0) \n",
    "car_data_avg.sample(5)"
   ]
  },
  {
   "cell_type": "code",
   "execution_count": null,
   "metadata": {
    "id": "nN4zsLcZ-KqF"
   },
   "outputs": [],
   "source": [
    "# Create a DataFrame of only the relevant features to plot  \n",
    "features_to_plot = pd.DataFrame({'MPG.highway': car_data_avg['MPG.highway'],\n",
    "                                 'MPG.city': car_data_avg['MPG.city']})"
   ]
  },
  {
   "cell_type": "code",
   "execution_count": null,
   "metadata": {
    "id": "UByN-rKb-KqG",
    "outputId": "e40af49a-2d69-4716-a74d-59b9cf8daa49"
   },
   "outputs": [],
   "source": [
    "# Plot the average miles per gallon (MPG) for highway \n",
    "# driving and city driving for each type of car\n",
    "features_to_plot.plot(kind='bar', ylabel=\"Average MPG\")"
   ]
  },
  {
   "attachments": {},
   "cell_type": "markdown",
   "metadata": {
    "id": "PeZQNlH6-KqH"
   },
   "source": [
    "## Groupby count: barchart"
   ]
  },
  {
   "cell_type": "code",
   "execution_count": null,
   "metadata": {
    "id": "X8z_YeI3-KqH",
    "outputId": "613e307f-c257-41ee-d308-82f348d72cd3"
   },
   "outputs": [],
   "source": [
    "car_data['AirBags'].unique()"
   ]
  },
  {
   "cell_type": "code",
   "execution_count": null,
   "metadata": {
    "id": "fOJ_O24xojtW",
    "outputId": "f9d48444-619a-4431-fa23-2e89fc095fc9"
   },
   "outputs": [],
   "source": [
    "# Group by 'Airbags' and count models in each airbag category\n",
    "car_AirBagscount = car_data.groupby('AirBags').count()\n",
    "\n",
    "# View grouped data\n",
    "car_AirBagscount"
   ]
  },
  {
   "cell_type": "code",
   "execution_count": null,
   "metadata": {
    "id": "ZnW1kUjs-KqI"
   },
   "outputs": [],
   "source": [
    "# Create a DataFrame with the first column and all rows\n",
    "car_AirBagscount = pd.DataFrame(car_AirBagscount.iloc[:, 0])\n",
    "\n",
    "# Rename the first column to 'Count'\n",
    "car_AirBagscount.rename(columns={'Manufacturer': 'Count'}, inplace=True)"
   ]
  },
  {
   "cell_type": "code",
   "execution_count": null,
   "metadata": {
    "id": "9_Qnlr2V-KqI",
    "outputId": "8a4af4f7-0c88-4dc4-b836-3c5f4915236a"
   },
   "outputs": [],
   "source": [
    "# Plot a bar chart showing the number of models in each airbag category\n",
    "car_AirBagscount.plot.bar(figsize=(3, 3), legend=False, title=\"Airbag Count\", \n",
    "                          ylabel=\"Number of Models\", xlabel=\"Airbag categories\",\n",
    "                          color='purple')"
   ]
  }
 ],
 "metadata": {
  "colab": {
   "provenance": []
  },
  "kernelspec": {
   "display_name": "Python 3",
   "language": "python",
   "name": "python3"
  },
  "language_info": {
   "codemirror_mode": {
    "name": "ipython",
    "version": 3
   },
   "file_extension": ".py",
   "mimetype": "text/x-python",
   "name": "python",
   "nbconvert_exporter": "python",
   "pygments_lexer": "ipython3",
   "version": "3.13.2"
  }
 },
 "nbformat": 4,
 "nbformat_minor": 0
}
