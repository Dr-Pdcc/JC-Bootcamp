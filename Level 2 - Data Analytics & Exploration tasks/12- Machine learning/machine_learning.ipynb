{
 "cells": [
  {
   "cell_type": "markdown",
   "metadata": {
    "id": "IBb6nSAY5T4I"
   },
   "source": [
    "# Machine Learning\n",
    "## Compulsory task"
   ]
  },
  {
   "cell_type": "markdown",
   "metadata": {
    "id": "N02Qu9_f1N45"
   },
   "source": [
    "1. For each of the following examples describe at least one possible input and \n",
    "output. Justify your answers:  \n",
    "* 1.1 A self-driving car\n",
    "* 1.2 Netflix recommendation system\n",
    "* 1.3 Signature recognition\n",
    "* 1.4 Medical diagnosis\n"
   ]
  },
  {
   "cell_type": "markdown",
   "metadata": {
    "id": "-8aBqprP3ypo"
   },
   "source": [
    "1. Answer here\n",
    "\n",
    "|      | Input(s)    | Output     | Justification|\n",
    "| ---- | ----------- | ---------  | ---------    |\n",
    "| 1.1  |Weather conditions (rain, snow) from external sensors| Windshield wiper activation / Adjusting driving speed| The system integrates external sensor data with environmental conditions to ensure safe driving| \n",
    "| 1.2  | Number of episodes watched in one sitting / Users with similar watch patterns| Suggestion for \"binge-worthy shows\" based on similar users' habits| The system optimises recommendations based on user engagement trends|\n",
    "| 1.3  | The speed of the signature stroke / Number of times a person hesitates while writing| A confidence score for whether the signature is authentic / Automatic rejection of a suspected forgery| The system not only compares static images but also analyses dynamic behaviuoral features|\n",
    "| 1.4  | Genetic sequencing data / Sleep pattern analysis from apple watch / Environmental exposure data (pollution levels) | Early-stage cancer risk assessment / Personalised vitamin deficiency report |Integrating genetic and environmental factors enables more accurate and early medical predictions|"
   ]
  },
  {
   "cell_type": "markdown",
   "metadata": {
    "id": "l_I2f4C85yNF"
   },
   "source": [
    "\n",
    "2. For each of the following case studies, determine whether it is appropriate to utilise regression or classification machine learning algorithms. Justify your answers:\n",
    "* 2.1 Classifying emails as promotion or social based on their content and metadata. \n",
    "* 2.2 Forecasting the stock price of a company based on historical data and market trends.\n",
    "* 2.3 Sorting images of animals into different species based on their visual features.\n",
    "* 2.4 Predicting the likelihood of a patient having a particular disease based on medical history and diagnostic test results. "
   ]
  },
  {
   "cell_type": "markdown",
   "metadata": {
    "id": "WgMUsqQr6qFU"
   },
   "source": [
    "2. Answer here\n",
    "* 2.1 - Classification - this is a categorical problem where emails are assigned either the \"promotional\" label or the \"social\" label. \n",
    "* 2.2 - Regression - we are working with continuous numerical values, where regression can be used for predicting future values (forecasting).  \n",
    "* 2.3 - Classification - in this case we are assigning a discrete category to each image - a certain animal species. \n",
    "* 2.4 - Classification - the output is categorical (Yes/ No), therefore classification is the right choice."
   ]
  },
  {
   "cell_type": "markdown",
   "metadata": {
    "id": "b6f8UETG64hH"
   },
   "source": [
    "3. For each of the following real-world problems, determine whether it is appropriate to utilise a supervised or unsupervised machine learning algorithm. Justify your answers:\n",
    "* 3.1 Detecting anomalies in a manufacturing process using sensor data without prior knowledge of specific anomaly patterns. \n",
    "* 3.2 Predicting customer lifetime value based on historical transaction data and customer demographics. \n",
    "* 3.3 Segmenting customer demographics based on their purchase history, browsing behaviour, and preferences. \n",
    "* 3.4 Analysing social media posts to categorise them into different themes. \n"
   ]
  },
  {
   "cell_type": "markdown",
   "metadata": {
    "id": "W6dTYBvd675O"
   },
   "source": [
    "3. Answer here\n",
    "* 3.1 - Unsupervised learning - specific anomaly patterns are not known, clustering or outlier detection techniques are needed to identify deviations from normal behaviour.\n",
    "* 3.2 - Supervised learning - the labeled historical data (previous customer transaction data and demographics) can be used to train the model to predict lifetime value. \n",
    "* 3.3 - Unsupervised learning - clustering methods can group customers into segments without predifined labels, allowing businesses to discover hidden patterns.\n",
    "* 3.4 - If labeled posts are avialable then we can use Supervised learning  to train a classifier. Otherwise, if categories are unknown and need to be discovered, we should use Unsupervised learning."
   ]
  },
  {
   "cell_type": "markdown",
   "metadata": {
    "id": "bqsun96o64xe"
   },
   "source": [
    "4. For each of the following real-world problems, determine whether it is appropriate to utilise semi-supervised machine learning algorithms. Justify your answers:\n",
    "* 4.1 Predicting fraudulent financial transactions using a dataset where most transactions are labelled as fraudulent or legitimate.\n",
    "* 4.2 Analysing customer satisfaction surveys where only a small portion of the data is labelled with satisfaction ratings.\n",
    "* 4.3 Identifying spam emails in a dataset where the majority of emails are labelled.\n",
    "* 4.4 Predicting the probability of default for credit card applicants based on their complete financial and credit-related information.\n"
   ]
  },
  {
   "cell_type": "markdown",
   "metadata": {
    "id": "aTWugZ6q68GF"
   },
   "source": [
    "4. Answer here\n",
    "* 4.1 - Inappropriate - since most transactions are labeled, a fully supervised learning approach is more effective. \n",
    "* 4.2 - Appropriate - using semi-supervised learning can leverage the small labeled dataset and large unlabeled dataset to improve sentiment classification. \n",
    "* 4.3 - Inappropriate - if most emails are labeled, supervised learning is the best approach. \n",
    "* 4.4  - Inappropriate - since all financial and credit related data is available and labeled, a supervised learning approach is more suitable."
   ]
  }
 ],
 "metadata": {
  "colab": {
   "provenance": []
  },
  "kernelspec": {
   "display_name": "Python 3",
   "name": "python3"
  },
  "language_info": {
   "name": "python"
  }
 },
 "nbformat": 4,
 "nbformat_minor": 0
}
