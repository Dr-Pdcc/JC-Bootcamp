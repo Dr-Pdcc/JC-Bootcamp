{
 "cells": [
  {
   "cell_type": "code",
   "execution_count": 19,
   "metadata": {
    "id": "h0LVvvnfJsg5"
   },
   "outputs": [],
   "source": [
    "# Import pandas\n",
    "import pandas as pd"
   ]
  },
  {
   "cell_type": "code",
   "execution_count": 20,
   "metadata": {
    "id": "rv2oLRnPK36J"
   },
   "outputs": [],
   "source": [
    "# Create a DataFrame with balance.txt\n",
    "df = pd.read_csv('balance.txt', sep=' ' )"
   ]
  },
  {
   "cell_type": "markdown",
   "metadata": {
    "id": "_LXpBJXZLYoh"
   },
   "source": [
    "Write the code needed to produce a report that provides the following information:\n",
    "* Compare the average income based on ethnicity. \n",
    "* On average, do married or single people have a higher balance?\n",
    "* What is the highest income in our dataset?\n",
    "* What is the lowest income in our dataset?\n",
    "* How many cards do we have recorded in our dataset? (Hint: use `sum()`)\n",
    "* How many females do we have information for vs how many males? (Hint: use `count()`For a list of all methods for computation of descriptive stats, explore the [pandas documentation](https://pandas.pydata.org/pandas-docs/stable/reference/frame.html#computations-descriptive-stats)). \n",
    "\n",
    "\n"
   ]
  },
  {
   "cell_type": "code",
   "execution_count": 21,
   "metadata": {},
   "outputs": [
    {
     "data": {
      "text/plain": [
       "Ethnicity\n",
       "African American    47.682101\n",
       "Asian               44.187833\n",
       "Caucasian           44.521945\n",
       "Name: Income, dtype: float64"
      ]
     },
     "execution_count": 21,
     "metadata": {},
     "output_type": "execute_result"
    }
   ],
   "source": [
    "# Compare the average income based on ethnicity\n",
    "df.groupby(['Ethnicity'])['Income'].mean()"
   ]
  },
  {
   "cell_type": "code",
   "execution_count": 22,
   "metadata": {},
   "outputs": [
    {
     "name": "stdout",
     "output_type": "stream",
     "text": [
      "The average balance for married people is: 13.388473477498913\n",
      "The average balance for single people is: 13.493509015134242\n"
     ]
    }
   ],
   "source": [
    "# On average, do married or single people have a higher balance? \n",
    "print(\"The average balance for married people is:\", df[df.Married == 'Yes'].loc[:,'Balance'].mean())\n",
    "print(\"The average balance for single people is:\", df[df.Married == 'No'].loc[:,'Balance'].mean())"
   ]
  },
  {
   "cell_type": "code",
   "execution_count": 23,
   "metadata": {},
   "outputs": [
    {
     "name": "stdout",
     "output_type": "stream",
     "text": [
      "The highest income in our dataset is: 186.634\n"
     ]
    }
   ],
   "source": [
    "# What is the highest income in our dataset? \n",
    "print(\"The highest income in our dataset is:\", df.loc[:,'Income'].max())"
   ]
  },
  {
   "cell_type": "code",
   "execution_count": 24,
   "metadata": {},
   "outputs": [
    {
     "name": "stdout",
     "output_type": "stream",
     "text": [
      "The lowest income in our dataset is: 10.354\n"
     ]
    }
   ],
   "source": [
    "# What is the lowest income in our dataset? \n",
    "print(\"The lowest income in our dataset is:\", df.loc[:,'Income'].min())"
   ]
  },
  {
   "cell_type": "code",
   "execution_count": 25,
   "metadata": {},
   "outputs": [
    {
     "name": "stdout",
     "output_type": "stream",
     "text": [
      "We have a total of 1183 cards recorded in our dataset\n"
     ]
    }
   ],
   "source": [
    "# How many cards do we have recorded in our dataset? \n",
    "print(\"We have a total of\",  df['Cards'].sum(), \"cards recorded in our dataset\")"
   ]
  },
  {
   "cell_type": "code",
   "execution_count": 27,
   "metadata": {},
   "outputs": [
    {
     "name": "stdout",
     "output_type": "stream",
     "text": [
      "We have information for 207 females and 193 males in our database.\n"
     ]
    }
   ],
   "source": [
    "# How many females do we have information for vs how many males? \n",
    "print(\"We have information for\", df[df.Gender == 'Female'][\"Gender\"].count(), \"females and\", df[df.Gender == 'Male']['Gender'].count(), \"males in our database.\")"
   ]
  }
 ],
 "metadata": {
  "colab": {
   "authorship_tag": "ABX9TyP5J3xG1JXUCQAkP9OLQqdU",
   "provenance": []
  },
  "kernelspec": {
   "display_name": "Python 3",
   "name": "python3"
  },
  "language_info": {
   "codemirror_mode": {
    "name": "ipython",
    "version": 3
   },
   "file_extension": ".py",
   "mimetype": "text/x-python",
   "name": "python",
   "nbconvert_exporter": "python",
   "pygments_lexer": "ipython3",
   "version": "3.13.2"
  }
 },
 "nbformat": 4,
 "nbformat_minor": 0
}
