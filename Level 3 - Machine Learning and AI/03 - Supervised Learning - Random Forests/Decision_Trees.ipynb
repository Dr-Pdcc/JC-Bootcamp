{
 "cells": [
  {
   "cell_type": "markdown",
   "metadata": {},
   "source": [
    "# Random Forest Task"
   ]
  },
  {
   "cell_type": "markdown",
   "metadata": {},
   "source": [
    "## Objective\n",
    "\n",
    "Create Bagged, Random Forest, and Boosted tree for the titanic dataset in the same way that you created a regular Classification Tree and make calculation to showcase the capabilities of those methods."
   ]
  },
  {
   "cell_type": "code",
   "execution_count": 2,
   "metadata": {
    "id": "mFPFeEu69axo"
   },
   "outputs": [],
   "source": [
    "# Import libraries\n",
    "import pandas as pd\n",
    "import numpy as np\n",
    "import matplotlib.pyplot as plt\n",
    "\n",
    "from sklearn.model_selection import train_test_split\n",
    "from sklearn.tree import DecisionTreeClassifier, plot_tree\n",
    "from sklearn.metrics import accuracy_score\n",
    "from sklearn.impute import SimpleImputer\n",
    "\n",
    "# Ensemble methods\n",
    "from sklearn.ensemble import BaggingClassifier, RandomForestClassifier, GradientBoostingClassifier\n"
   ]
  },
  {
   "cell_type": "code",
   "execution_count": 3,
   "metadata": {
    "id": "e9C-68Ij9ayD",
    "outputId": "cb08f206-100d-4a4c-f87d-13f2aec390cc"
   },
   "outputs": [
    {
     "data": {
      "text/html": [
       "<div>\n",
       "<style scoped>\n",
       "    .dataframe tbody tr th:only-of-type {\n",
       "        vertical-align: middle;\n",
       "    }\n",
       "\n",
       "    .dataframe tbody tr th {\n",
       "        vertical-align: top;\n",
       "    }\n",
       "\n",
       "    .dataframe thead th {\n",
       "        text-align: right;\n",
       "    }\n",
       "</style>\n",
       "<table border=\"1\" class=\"dataframe\">\n",
       "  <thead>\n",
       "    <tr style=\"text-align: right;\">\n",
       "      <th></th>\n",
       "      <th>PassengerId</th>\n",
       "      <th>Survived</th>\n",
       "      <th>Pclass</th>\n",
       "      <th>Name</th>\n",
       "      <th>Sex</th>\n",
       "      <th>Age</th>\n",
       "      <th>SibSp</th>\n",
       "      <th>Parch</th>\n",
       "      <th>Ticket</th>\n",
       "      <th>Fare</th>\n",
       "      <th>Cabin</th>\n",
       "      <th>Embarked</th>\n",
       "    </tr>\n",
       "  </thead>\n",
       "  <tbody>\n",
       "    <tr>\n",
       "      <th>0</th>\n",
       "      <td>1</td>\n",
       "      <td>0</td>\n",
       "      <td>3</td>\n",
       "      <td>Braund, Mr. Owen Harris</td>\n",
       "      <td>male</td>\n",
       "      <td>22.0</td>\n",
       "      <td>1</td>\n",
       "      <td>0</td>\n",
       "      <td>A/5 21171</td>\n",
       "      <td>7.2500</td>\n",
       "      <td>NaN</td>\n",
       "      <td>S</td>\n",
       "    </tr>\n",
       "    <tr>\n",
       "      <th>1</th>\n",
       "      <td>2</td>\n",
       "      <td>1</td>\n",
       "      <td>1</td>\n",
       "      <td>Cumings, Mrs. John Bradley (Florence Briggs Th...</td>\n",
       "      <td>female</td>\n",
       "      <td>38.0</td>\n",
       "      <td>1</td>\n",
       "      <td>0</td>\n",
       "      <td>PC 17599</td>\n",
       "      <td>71.2833</td>\n",
       "      <td>C85</td>\n",
       "      <td>C</td>\n",
       "    </tr>\n",
       "    <tr>\n",
       "      <th>2</th>\n",
       "      <td>3</td>\n",
       "      <td>1</td>\n",
       "      <td>3</td>\n",
       "      <td>Heikkinen, Miss. Laina</td>\n",
       "      <td>female</td>\n",
       "      <td>26.0</td>\n",
       "      <td>0</td>\n",
       "      <td>0</td>\n",
       "      <td>STON/O2. 3101282</td>\n",
       "      <td>7.9250</td>\n",
       "      <td>NaN</td>\n",
       "      <td>S</td>\n",
       "    </tr>\n",
       "    <tr>\n",
       "      <th>3</th>\n",
       "      <td>4</td>\n",
       "      <td>1</td>\n",
       "      <td>1</td>\n",
       "      <td>Futrelle, Mrs. Jacques Heath (Lily May Peel)</td>\n",
       "      <td>female</td>\n",
       "      <td>35.0</td>\n",
       "      <td>1</td>\n",
       "      <td>0</td>\n",
       "      <td>113803</td>\n",
       "      <td>53.1000</td>\n",
       "      <td>C123</td>\n",
       "      <td>S</td>\n",
       "    </tr>\n",
       "    <tr>\n",
       "      <th>4</th>\n",
       "      <td>5</td>\n",
       "      <td>0</td>\n",
       "      <td>3</td>\n",
       "      <td>Allen, Mr. William Henry</td>\n",
       "      <td>male</td>\n",
       "      <td>35.0</td>\n",
       "      <td>0</td>\n",
       "      <td>0</td>\n",
       "      <td>373450</td>\n",
       "      <td>8.0500</td>\n",
       "      <td>NaN</td>\n",
       "      <td>S</td>\n",
       "    </tr>\n",
       "  </tbody>\n",
       "</table>\n",
       "</div>"
      ],
      "text/plain": [
       "   PassengerId  Survived  Pclass  \\\n",
       "0            1         0       3   \n",
       "1            2         1       1   \n",
       "2            3         1       3   \n",
       "3            4         1       1   \n",
       "4            5         0       3   \n",
       "\n",
       "                                                Name     Sex   Age  SibSp  \\\n",
       "0                            Braund, Mr. Owen Harris    male  22.0      1   \n",
       "1  Cumings, Mrs. John Bradley (Florence Briggs Th...  female  38.0      1   \n",
       "2                             Heikkinen, Miss. Laina  female  26.0      0   \n",
       "3       Futrelle, Mrs. Jacques Heath (Lily May Peel)  female  35.0      1   \n",
       "4                           Allen, Mr. William Henry    male  35.0      0   \n",
       "\n",
       "   Parch            Ticket     Fare Cabin Embarked  \n",
       "0      0         A/5 21171   7.2500   NaN        S  \n",
       "1      0          PC 17599  71.2833   C85        C  \n",
       "2      0  STON/O2. 3101282   7.9250   NaN        S  \n",
       "3      0            113803  53.1000  C123        S  \n",
       "4      0            373450   8.0500   NaN        S  "
      ]
     },
     "execution_count": 3,
     "metadata": {},
     "output_type": "execute_result"
    }
   ],
   "source": [
    "# Import the data set\n",
    "titanic_df = pd.read_csv(\"titanic.csv\")\n",
    "\n",
    "# Explore the dataset\n",
    "titanic_df.head()"
   ]
  },
  {
   "cell_type": "code",
   "execution_count": 4,
   "metadata": {
    "id": "CBV7Mx939ayO",
    "outputId": "4e34ffef-0da5-49e5-d52c-379240000dc2"
   },
   "outputs": [
    {
     "name": "stdout",
     "output_type": "stream",
     "text": [
      "<class 'pandas.core.frame.DataFrame'>\n",
      "RangeIndex: 891 entries, 0 to 890\n",
      "Data columns (total 12 columns):\n",
      " #   Column       Non-Null Count  Dtype  \n",
      "---  ------       --------------  -----  \n",
      " 0   PassengerId  891 non-null    int64  \n",
      " 1   Survived     891 non-null    int64  \n",
      " 2   Pclass       891 non-null    int64  \n",
      " 3   Name         891 non-null    object \n",
      " 4   Sex          891 non-null    object \n",
      " 5   Age          714 non-null    float64\n",
      " 6   SibSp        891 non-null    int64  \n",
      " 7   Parch        891 non-null    int64  \n",
      " 8   Ticket       891 non-null    object \n",
      " 9   Fare         891 non-null    float64\n",
      " 10  Cabin        204 non-null    object \n",
      " 11  Embarked     889 non-null    object \n",
      "dtypes: float64(2), int64(5), object(5)\n",
      "memory usage: 83.7+ KB\n"
     ]
    }
   ],
   "source": [
    "# Explore the dataset\n",
    "titanic_df.info()"
   ]
  },
  {
   "cell_type": "code",
   "execution_count": 5,
   "metadata": {
    "id": "EhNnIWET9ayS"
   },
   "outputs": [],
   "source": [
    "# You can also drop whichever other columns you'd like here\n",
    "titanic_df.drop(\"Cabin\", axis=1, inplace=True)\n",
    "\n",
    "# Clean the data by imputing missing values, this is needed to avoid issued when creating the Boosted Tree, since it cannot handle NaN values\n",
    "# Source: https://stackoverflow.com/questions/55124655/imputing-only-the-numerical-values-using-sci-kit-learn'''\n",
    "\n",
    "# Impute numerical features\n",
    "num_cols = ['Age', 'Fare']\n",
    "imputer = SimpleImputer(strategy='median')\n",
    "titanic_df[num_cols] = imputer.fit_transform(titanic_df[num_cols])\n",
    "\n",
    "# Impute categorical features\n",
    "titanic_df['Embarked'] = titanic_df['Embarked'].fillna(titanic_df['Embarked'].mode()[0])"
   ]
  },
  {
   "cell_type": "markdown",
   "metadata": {
    "id": "zFZ50hDg9aye"
   },
   "source": [
    "### One-Hot Encoding\n",
    "One-hot encoding is a technique used to ensure that categorical variables are better represented in the machine. Let's take a look at the \"Sex\" column"
   ]
  },
  {
   "cell_type": "code",
   "execution_count": 6,
   "metadata": {
    "id": "zxl62Q0-9ay1",
    "outputId": "1b2e62ad-3707-424d-fc21-26d413fc9221"
   },
   "outputs": [
    {
     "data": {
      "text/plain": [
       "array(['male', 'female'], dtype=object)"
      ]
     },
     "execution_count": 6,
     "metadata": {},
     "output_type": "execute_result"
    }
   ],
   "source": [
    "titanic_df[\"Sex\"].unique()"
   ]
  },
  {
   "cell_type": "markdown",
   "metadata": {
    "id": "sXIAVO4Z9ay8"
   },
   "source": [
    "Machine Learning classifiers don't know how to handle strings. As a result, you need to convert it into a categorical representation. There are two main ways to go about this:\n",
    "\n",
    "Label Encoding: Assigning, for example, 0 for \"male\" and 1 for \"female\". The problem here is it intrinsically makes one category \"larger than\" the other category.\n",
    "\n",
    "One-hot encoding: Assigning, for example, [1, 0] for \"male\" and [0, 1] for female. In this case, you have an array of size (n_categories,) and you represent a 1 in the correct index, and 0 elsewhere. In Pandas, this would show as extra columns. For example, rather than having a \"Sex\" column, it would be a \"Sex_male\" and \"Sex_female\" column. Then, if the person is male, it would simply show as a 1 in the \"Sex_male\" column and a 0 in the \"Sex_female\" column.\n",
    "\n",
    "There is a nice and easy method that does this in pandas: get_dummies()"
   ]
  },
  {
   "cell_type": "code",
   "execution_count": 7,
   "metadata": {
    "id": "hMLpI7IP9azC",
    "outputId": "8973bd4a-7ecd-4abf-edda-ef096ce958d7"
   },
   "outputs": [
    {
     "data": {
      "text/html": [
       "<div>\n",
       "<style scoped>\n",
       "    .dataframe tbody tr th:only-of-type {\n",
       "        vertical-align: middle;\n",
       "    }\n",
       "\n",
       "    .dataframe tbody tr th {\n",
       "        vertical-align: top;\n",
       "    }\n",
       "\n",
       "    .dataframe thead th {\n",
       "        text-align: right;\n",
       "    }\n",
       "</style>\n",
       "<table border=\"1\" class=\"dataframe\">\n",
       "  <thead>\n",
       "    <tr style=\"text-align: right;\">\n",
       "      <th></th>\n",
       "      <th>PassengerId</th>\n",
       "      <th>Survived</th>\n",
       "      <th>Pclass</th>\n",
       "      <th>Name</th>\n",
       "      <th>Age</th>\n",
       "      <th>SibSp</th>\n",
       "      <th>Parch</th>\n",
       "      <th>Ticket</th>\n",
       "      <th>Fare</th>\n",
       "      <th>Embarked</th>\n",
       "      <th>Sex_female</th>\n",
       "      <th>Sex_male</th>\n",
       "    </tr>\n",
       "  </thead>\n",
       "  <tbody>\n",
       "    <tr>\n",
       "      <th>0</th>\n",
       "      <td>1</td>\n",
       "      <td>0</td>\n",
       "      <td>3</td>\n",
       "      <td>Braund, Mr. Owen Harris</td>\n",
       "      <td>22.0</td>\n",
       "      <td>1</td>\n",
       "      <td>0</td>\n",
       "      <td>A/5 21171</td>\n",
       "      <td>7.2500</td>\n",
       "      <td>S</td>\n",
       "      <td>False</td>\n",
       "      <td>True</td>\n",
       "    </tr>\n",
       "    <tr>\n",
       "      <th>1</th>\n",
       "      <td>2</td>\n",
       "      <td>1</td>\n",
       "      <td>1</td>\n",
       "      <td>Cumings, Mrs. John Bradley (Florence Briggs Th...</td>\n",
       "      <td>38.0</td>\n",
       "      <td>1</td>\n",
       "      <td>0</td>\n",
       "      <td>PC 17599</td>\n",
       "      <td>71.2833</td>\n",
       "      <td>C</td>\n",
       "      <td>True</td>\n",
       "      <td>False</td>\n",
       "    </tr>\n",
       "    <tr>\n",
       "      <th>2</th>\n",
       "      <td>3</td>\n",
       "      <td>1</td>\n",
       "      <td>3</td>\n",
       "      <td>Heikkinen, Miss. Laina</td>\n",
       "      <td>26.0</td>\n",
       "      <td>0</td>\n",
       "      <td>0</td>\n",
       "      <td>STON/O2. 3101282</td>\n",
       "      <td>7.9250</td>\n",
       "      <td>S</td>\n",
       "      <td>True</td>\n",
       "      <td>False</td>\n",
       "    </tr>\n",
       "    <tr>\n",
       "      <th>3</th>\n",
       "      <td>4</td>\n",
       "      <td>1</td>\n",
       "      <td>1</td>\n",
       "      <td>Futrelle, Mrs. Jacques Heath (Lily May Peel)</td>\n",
       "      <td>35.0</td>\n",
       "      <td>1</td>\n",
       "      <td>0</td>\n",
       "      <td>113803</td>\n",
       "      <td>53.1000</td>\n",
       "      <td>S</td>\n",
       "      <td>True</td>\n",
       "      <td>False</td>\n",
       "    </tr>\n",
       "    <tr>\n",
       "      <th>4</th>\n",
       "      <td>5</td>\n",
       "      <td>0</td>\n",
       "      <td>3</td>\n",
       "      <td>Allen, Mr. William Henry</td>\n",
       "      <td>35.0</td>\n",
       "      <td>0</td>\n",
       "      <td>0</td>\n",
       "      <td>373450</td>\n",
       "      <td>8.0500</td>\n",
       "      <td>S</td>\n",
       "      <td>False</td>\n",
       "      <td>True</td>\n",
       "    </tr>\n",
       "  </tbody>\n",
       "</table>\n",
       "</div>"
      ],
      "text/plain": [
       "   PassengerId  Survived  Pclass  \\\n",
       "0            1         0       3   \n",
       "1            2         1       1   \n",
       "2            3         1       3   \n",
       "3            4         1       1   \n",
       "4            5         0       3   \n",
       "\n",
       "                                                Name   Age  SibSp  Parch  \\\n",
       "0                            Braund, Mr. Owen Harris  22.0      1      0   \n",
       "1  Cumings, Mrs. John Bradley (Florence Briggs Th...  38.0      1      0   \n",
       "2                             Heikkinen, Miss. Laina  26.0      0      0   \n",
       "3       Futrelle, Mrs. Jacques Heath (Lily May Peel)  35.0      1      0   \n",
       "4                           Allen, Mr. William Henry  35.0      0      0   \n",
       "\n",
       "             Ticket     Fare Embarked  Sex_female  Sex_male  \n",
       "0         A/5 21171   7.2500        S       False      True  \n",
       "1          PC 17599  71.2833        C        True     False  \n",
       "2  STON/O2. 3101282   7.9250        S        True     False  \n",
       "3            113803  53.1000        S        True     False  \n",
       "4            373450   8.0500        S       False      True  "
      ]
     },
     "execution_count": 7,
     "metadata": {},
     "output_type": "execute_result"
    }
   ],
   "source": [
    "titanic_df = pd.get_dummies(titanic_df, prefix=\"Sex\", columns=[\"Sex\"])\n",
    "titanic_df.head()"
   ]
  },
  {
   "cell_type": "markdown",
   "metadata": {
    "id": "4b3ItGkb9azJ"
   },
   "source": [
    "Now, we do the same to the \"Embarked\" column."
   ]
  },
  {
   "cell_type": "code",
   "execution_count": 8,
   "metadata": {
    "id": "5YEGpK3Y9azM",
    "outputId": "4d16f7a8-987d-48ea-b043-8d7391e0491a"
   },
   "outputs": [
    {
     "data": {
      "text/html": [
       "<div>\n",
       "<style scoped>\n",
       "    .dataframe tbody tr th:only-of-type {\n",
       "        vertical-align: middle;\n",
       "    }\n",
       "\n",
       "    .dataframe tbody tr th {\n",
       "        vertical-align: top;\n",
       "    }\n",
       "\n",
       "    .dataframe thead th {\n",
       "        text-align: right;\n",
       "    }\n",
       "</style>\n",
       "<table border=\"1\" class=\"dataframe\">\n",
       "  <thead>\n",
       "    <tr style=\"text-align: right;\">\n",
       "      <th></th>\n",
       "      <th>PassengerId</th>\n",
       "      <th>Survived</th>\n",
       "      <th>Pclass</th>\n",
       "      <th>Name</th>\n",
       "      <th>Age</th>\n",
       "      <th>SibSp</th>\n",
       "      <th>Parch</th>\n",
       "      <th>Ticket</th>\n",
       "      <th>Fare</th>\n",
       "      <th>Sex_female</th>\n",
       "      <th>Sex_male</th>\n",
       "      <th>Embarked_C</th>\n",
       "      <th>Embarked_Q</th>\n",
       "      <th>Embarked_S</th>\n",
       "    </tr>\n",
       "  </thead>\n",
       "  <tbody>\n",
       "    <tr>\n",
       "      <th>0</th>\n",
       "      <td>1</td>\n",
       "      <td>0</td>\n",
       "      <td>3</td>\n",
       "      <td>Braund, Mr. Owen Harris</td>\n",
       "      <td>22.0</td>\n",
       "      <td>1</td>\n",
       "      <td>0</td>\n",
       "      <td>A/5 21171</td>\n",
       "      <td>7.2500</td>\n",
       "      <td>False</td>\n",
       "      <td>True</td>\n",
       "      <td>False</td>\n",
       "      <td>False</td>\n",
       "      <td>True</td>\n",
       "    </tr>\n",
       "    <tr>\n",
       "      <th>1</th>\n",
       "      <td>2</td>\n",
       "      <td>1</td>\n",
       "      <td>1</td>\n",
       "      <td>Cumings, Mrs. John Bradley (Florence Briggs Th...</td>\n",
       "      <td>38.0</td>\n",
       "      <td>1</td>\n",
       "      <td>0</td>\n",
       "      <td>PC 17599</td>\n",
       "      <td>71.2833</td>\n",
       "      <td>True</td>\n",
       "      <td>False</td>\n",
       "      <td>True</td>\n",
       "      <td>False</td>\n",
       "      <td>False</td>\n",
       "    </tr>\n",
       "    <tr>\n",
       "      <th>2</th>\n",
       "      <td>3</td>\n",
       "      <td>1</td>\n",
       "      <td>3</td>\n",
       "      <td>Heikkinen, Miss. Laina</td>\n",
       "      <td>26.0</td>\n",
       "      <td>0</td>\n",
       "      <td>0</td>\n",
       "      <td>STON/O2. 3101282</td>\n",
       "      <td>7.9250</td>\n",
       "      <td>True</td>\n",
       "      <td>False</td>\n",
       "      <td>False</td>\n",
       "      <td>False</td>\n",
       "      <td>True</td>\n",
       "    </tr>\n",
       "    <tr>\n",
       "      <th>3</th>\n",
       "      <td>4</td>\n",
       "      <td>1</td>\n",
       "      <td>1</td>\n",
       "      <td>Futrelle, Mrs. Jacques Heath (Lily May Peel)</td>\n",
       "      <td>35.0</td>\n",
       "      <td>1</td>\n",
       "      <td>0</td>\n",
       "      <td>113803</td>\n",
       "      <td>53.1000</td>\n",
       "      <td>True</td>\n",
       "      <td>False</td>\n",
       "      <td>False</td>\n",
       "      <td>False</td>\n",
       "      <td>True</td>\n",
       "    </tr>\n",
       "    <tr>\n",
       "      <th>4</th>\n",
       "      <td>5</td>\n",
       "      <td>0</td>\n",
       "      <td>3</td>\n",
       "      <td>Allen, Mr. William Henry</td>\n",
       "      <td>35.0</td>\n",
       "      <td>0</td>\n",
       "      <td>0</td>\n",
       "      <td>373450</td>\n",
       "      <td>8.0500</td>\n",
       "      <td>False</td>\n",
       "      <td>True</td>\n",
       "      <td>False</td>\n",
       "      <td>False</td>\n",
       "      <td>True</td>\n",
       "    </tr>\n",
       "  </tbody>\n",
       "</table>\n",
       "</div>"
      ],
      "text/plain": [
       "   PassengerId  Survived  Pclass  \\\n",
       "0            1         0       3   \n",
       "1            2         1       1   \n",
       "2            3         1       3   \n",
       "3            4         1       1   \n",
       "4            5         0       3   \n",
       "\n",
       "                                                Name   Age  SibSp  Parch  \\\n",
       "0                            Braund, Mr. Owen Harris  22.0      1      0   \n",
       "1  Cumings, Mrs. John Bradley (Florence Briggs Th...  38.0      1      0   \n",
       "2                             Heikkinen, Miss. Laina  26.0      0      0   \n",
       "3       Futrelle, Mrs. Jacques Heath (Lily May Peel)  35.0      1      0   \n",
       "4                           Allen, Mr. William Henry  35.0      0      0   \n",
       "\n",
       "             Ticket     Fare  Sex_female  Sex_male  Embarked_C  Embarked_Q  \\\n",
       "0         A/5 21171   7.2500       False      True       False       False   \n",
       "1          PC 17599  71.2833        True     False        True       False   \n",
       "2  STON/O2. 3101282   7.9250        True     False       False       False   \n",
       "3            113803  53.1000        True     False       False       False   \n",
       "4            373450   8.0500       False      True       False       False   \n",
       "\n",
       "   Embarked_S  \n",
       "0        True  \n",
       "1       False  \n",
       "2        True  \n",
       "3        True  \n",
       "4        True  "
      ]
     },
     "execution_count": 8,
     "metadata": {},
     "output_type": "execute_result"
    }
   ],
   "source": [
    "titanic_df = pd.get_dummies(titanic_df, prefix=\"Embarked\", columns=[\"Embarked\"])\n",
    "titanic_df.head()"
   ]
  },
  {
   "cell_type": "markdown",
   "metadata": {},
   "source": [
    "- Select relevant variables from the data and split the data into a training, development, and test set. "
   ]
  },
  {
   "cell_type": "code",
   "execution_count": 9,
   "metadata": {},
   "outputs": [],
   "source": [
    "features = [\n",
    "    'Pclass', 'Age', 'SibSp', 'Parch', 'Fare', \n",
    "    'Sex_female', 'Sex_male', \n",
    "    'Embarked_C', 'Embarked_Q', 'Embarked_S'\n",
    "]\n",
    "X = titanic_df[features]\n",
    "y = titanic_df['Survived']"
   ]
  },
  {
   "cell_type": "code",
   "execution_count": 10,
   "metadata": {},
   "outputs": [
    {
     "name": "stdout",
     "output_type": "stream",
     "text": [
      "Training set size: 534\n",
      "Development set size: 178\n",
      "Test set size: 179\n"
     ]
    }
   ],
   "source": [
    "# First split off 20% for test\n",
    "rseed = 42\n",
    "X_temp, X_test, y_temp, y_test = train_test_split(\n",
    "    X, y, test_size=0.2, random_state=rseed\n",
    ")\n",
    "\n",
    "# Of the remaining 80%, split 25% as dev => 80% * 25% = 20% total\n",
    "X_train, X_dev, y_train, y_dev = train_test_split(\n",
    "    X_temp, y_temp, test_size=0.25, random_state=rseed\n",
    ")\n",
    "\n",
    "print(\"Training set size:\", X_train.shape[0])\n",
    "print(\"Development set size:\", X_dev.shape[0])\n",
    "print(\"Test set size:\", X_test.shape[0])"
   ]
  },
  {
   "cell_type": "markdown",
   "metadata": {},
   "source": [
    "- Train a decision tree and make a plot of it. "
   ]
  },
  {
   "cell_type": "code",
   "execution_count": 11,
   "metadata": {},
   "outputs": [
    {
     "data": {
      "image/png": "[encoded data removed]",
      "text/plain": [
       "<Figure size 1200x800 with 1 Axes>"
      ]
     },
     "metadata": {},
     "output_type": "display_data"
    }
   ],
   "source": [
    "clf = DecisionTreeClassifier(max_depth=3, random_state=rseed)\n",
    "clf.fit(X_train, y_train)\n",
    "\n",
    "plt.figure(figsize=(12,8))\n",
    "plot_tree(\n",
    "    clf, \n",
    "    feature_names=features, \n",
    "    class_names=['Not Survived', 'Survived'],\n",
    "    filled=True\n",
    ")\n",
    "plt.title(\"Decision Tree (max_depth=3)\")\n",
    "plt.show()"
   ]
  },
  {
   "cell_type": "markdown",
   "metadata": {},
   "source": [
    "\n",
    "- Compute your model's accuracy on the development set. "
   ]
  },
  {
   "cell_type": "code",
   "execution_count": 12,
   "metadata": {},
   "outputs": [
    {
     "name": "stdout",
     "output_type": "stream",
     "text": [
      "Training Accuracy (max_depth=3): 0.828\n",
      "Development Accuracy (max_depth=3): 0.848\n"
     ]
    }
   ],
   "source": [
    "train_predictions = clf.predict(X_train)\n",
    "dev_predictions = clf.predict(X_dev)\n",
    "\n",
    "train_accuracy = accuracy_score(y_train, train_predictions)\n",
    "dev_accuracy = accuracy_score(y_dev, dev_predictions)\n",
    "\n",
    "print(f\"Training Accuracy (max_depth=3): {train_accuracy:.3f}\")\n",
    "print(f\"Development Accuracy (max_depth=3): {dev_accuracy:.3f}\")"
   ]
  },
  {
   "cell_type": "markdown",
   "metadata": {},
   "source": [
    "- Try building your model with different values of the max_depht [2-10]. At each step, create a plot of your tree and store the accuracies on both the training and development data. "
   ]
  },
  {
   "cell_type": "code",
   "execution_count": 13,
   "metadata": {},
   "outputs": [],
   "source": [
    "depths = range(2, 11)  # 2 through 10\n",
    "train_accuracies = []\n",
    "dev_accuracies = []\n",
    "\n",
    "for d in depths:\n",
    "    clf_d = DecisionTreeClassifier(max_depth=d, random_state=rseed)\n",
    "    clf_d.fit(X_train, y_train)\n",
    "    \n",
    "    # Predictions\n",
    "    train_pred = clf_d.predict(X_train)\n",
    "    dev_pred = clf_d.predict(X_dev)\n",
    "    \n",
    "    # Accuracy\n",
    "    train_acc = accuracy_score(y_train, train_pred)\n",
    "    dev_acc = accuracy_score(y_dev, dev_pred)\n",
    "    \n",
    "    train_accuracies.append(train_acc)\n",
    "    dev_accuracies.append(dev_acc)\n"
   ]
  },
  {
   "cell_type": "markdown",
   "metadata": {},
   "source": [
    "- Plot a line of your training accuracies and another of your development accuracies in the same graph. Write down what shape the lines have and what this shape means. "
   ]
  },
  {
   "cell_type": "code",
   "execution_count": 14,
   "metadata": {},
   "outputs": [
    {
     "data": {
      "image/png": "[encoded data removed]",
      "text/plain": [
       "<Figure size 800x600 with 1 Axes>"
      ]
     },
     "metadata": {},
     "output_type": "display_data"
    }
   ],
   "source": [
    "# Plotting\n",
    "plt.figure(figsize=(8,6))\n",
    "plt.plot(depths, train_accuracies, marker='o', label='Training Accuracy')\n",
    "plt.plot(depths, dev_accuracies, marker='o', label='Development Accuracy')\n",
    "plt.title('Decision Tree Accuracy vs. max_depth')\n",
    "plt.xlabel('max_depth')\n",
    "plt.ylabel('Accuracy')\n",
    "plt.legend()\n",
    "plt.show()"
   ]
  },
  {
   "cell_type": "markdown",
   "metadata": {},
   "source": [
    "**Chart analysis**\n",
    "\n",
    "Training Accuracy (blue line) steadily increases as max_depth grows. This is expected, because deeper trees can memorize the training data more effectively.\n",
    "\n",
    "Development Accuracy (orange line) peaks around depths 3 or 4, then starts to decline as the tree grows deeper. At those depths, the model strikes a good balance between capturing the underlying patterns and not overfitting.\n",
    "\n",
    "- At lower depths, the model is too simple (underfitting), so both training and development accuracies are lower.\n",
    "\n",
    "- At medium depths (around 3 or 4), the development accuracy reaches its highest point—this is the 'sweet spot' where the model generalises well.\n",
    "\n",
    "- At higher depths (beyond 4), the training accuracy keeps going up, but the development accuracy drops, indicating overfitting. The model is fitting noise in the training set rather than learning generalizable patterns.\n",
    "\n",
    "Conclusion:\n",
    "Based on the chart, max_depth = 3 or 4 appears to be the optimal choice for balancing bias and variance in this particular dataset."
   ]
  },
  {
   "cell_type": "markdown",
   "metadata": {},
   "source": [
    "- Report the accuracy of your final model on the test data. "
   ]
  },
  {
   "cell_type": "code",
   "execution_count": 15,
   "metadata": {},
   "outputs": [
    {
     "name": "stdout",
     "output_type": "stream",
     "text": [
      "Best Depth: 3\n",
      "Test Accuracy: 0.7989\n"
     ]
    }
   ],
   "source": [
    "\n",
    "best_depth = depths[np.argmax(dev_accuracies)]\n",
    "final_clf = DecisionTreeClassifier(max_depth=best_depth, random_state=42)\n",
    "final_clf.fit(X_train, y_train)\n",
    "test_accuracy = accuracy_score(y_test, final_clf.predict(X_test))\n",
    "print(\"Best Depth:\", best_depth)\n",
    "print(f\"Test Accuracy: {test_accuracy:.4f}\")"
   ]
  },
  {
   "cell_type": "markdown",
   "metadata": {},
   "source": [
    "## Random Forest Taks steps \n",
    "\n",
    "- Create a Bagged, Random Forest, and Boosted tree for the titanic dataset in the same way that you created a regular Classification Tree."
   ]
  },
  {
   "cell_type": "code",
   "execution_count": 16,
   "metadata": {},
   "outputs": [
    {
     "name": "stdout",
     "output_type": "stream",
     "text": [
      "Bagging Classifier Dev Accuracy: 0.8539\n",
      "Random Forest Dev Accuracy: 0.8146\n",
      "Gradient Boosting Dev Accuracy: 0.8483\n"
     ]
    }
   ],
   "source": [
    "#--- 1. Create Bagging Classifier ---#\n",
    "\n",
    "# Instantiate Bagging Classifier\n",
    "base = DecisionTreeClassifier(max_depth=3)\n",
    "bag_clf = BaggingClassifier(estimator=base,\n",
    "n_estimators=100,  # number of trees\n",
    "max_samples=1.0,   # fraction of the trainign set to sample for each base estimator\n",
    "bootstrap=True,    # wheter samples are drawn with replacement\n",
    "random_state=rseed)\n",
    "\n",
    "# Train on the training set\n",
    "bag_clf.fit(X_train, y_train)\n",
    "\n",
    "# Evaluate on dev set\n",
    "bag_dev_predictions = bag_clf.predict(X_dev)\n",
    "bag_dev_accuracy = accuracy_score(y_dev, bag_dev_predictions)\n",
    "\n",
    "print(f\"Bagging Classifier Dev Accuracy: {bag_dev_accuracy:.4f}\")\n",
    "\n",
    "#--- 2. Create Random Forest ---#\n",
    "\n",
    "# Instantiate Random Forest\n",
    "rf_clf = RandomForestClassifier(\n",
    "    n_estimators=100,  # number of trees\n",
    "    max_depth=3,\n",
    "    random_state=rseed\n",
    ")\n",
    "\n",
    "# Train on the training set\n",
    "rf_clf.fit(X_train, y_train)\n",
    "\n",
    "# Evaluate on dev set\n",
    "rf_dev_predictions = rf_clf.predict(X_dev)\n",
    "rf_dev_accuracy = accuracy_score(y_dev, rf_dev_predictions)\n",
    "\n",
    "print(f\"Random Forest Dev Accuracy: {rf_dev_accuracy:.4f}\")\n",
    "\n",
    "#--- 3. Create Boosted Tree ---#\n",
    "\n",
    "# Instantiate Boosted Tree\n",
    "gb_clf = GradientBoostingClassifier(\n",
    "    n_estimators=100,  # number of boosting stages\n",
    "    max_depth=3,       # depth of each tree\n",
    "    learning_rate=0.1, # shrinkage rate\n",
    "    random_state=rseed\n",
    ")\n",
    "\n",
    "# Train on the training set\n",
    "gb_clf.fit(X_train, y_train)\n",
    "\n",
    "# Evaluate on dev set\n",
    "gb_dev_predictions = gb_clf.predict(X_dev)\n",
    "gb_dev_accuracy = accuracy_score(y_dev, gb_dev_predictions)\n",
    "\n",
    "print(f\"Gradient Boosting Dev Accuracy: {gb_dev_accuracy:.4f}\")"
   ]
  },
  {
   "cell_type": "markdown",
   "metadata": {},
   "source": [
    "\n",
    "- From the Random Forest model, determine which of the features is the one that contributes the most to predicting whether a passenger survives or not."
   ]
  },
  {
   "cell_type": "code",
   "execution_count": 17,
   "metadata": {},
   "outputs": [
    {
     "name": "stdout",
     "output_type": "stream",
     "text": [
      "      feature  importance\n",
      "6    Sex_male    0.338177\n",
      "5  Sex_female    0.249461\n",
      "0      Pclass    0.139334\n",
      "4        Fare    0.124948\n",
      "1         Age    0.064533\n",
      "2       SibSp    0.025896\n",
      "3       Parch    0.025429\n",
      "9  Embarked_S    0.014863\n",
      "7  Embarked_C    0.014625\n",
      "8  Embarked_Q    0.002735\n"
     ]
    }
   ],
   "source": [
    "importances = rf_clf.feature_importances_\n",
    "feature_names = X_train.columns\n",
    "\n",
    "# Pair up feature names with importance and then sort the values\n",
    "feature_importance_df = pd.DataFrame({\n",
    "    'feature': feature_names,\n",
    "    'importance': importances\n",
    "}).sort_values(by='importance', ascending=False)\n",
    "\n",
    "print(feature_importance_df)"
   ]
  },
  {
   "cell_type": "markdown",
   "metadata": {},
   "source": [
    "- Pick one of these methods, and tune the parameters n_estimators and max_depth."
   ]
  },
  {
   "cell_type": "code",
   "execution_count": 18,
   "metadata": {},
   "outputs": [
    {
     "name": "stdout",
     "output_type": "stream",
     "text": [
      "Bagging Classifier:\n",
      "  Best Dev Accuracy: 0.8539\n",
      "  Best Params: n_estimators = 50, max_depth (base) = 3\n",
      "\n",
      "Random Forest:\n",
      "  Best Dev Accuracy: 0.8427\n",
      "  Best Params: n_estimators = 50, max_depth = 6\n",
      "\n",
      "Gradient Boosting:\n",
      "  Best Dev Accuracy: 0.8483\n",
      "  Best Params: n_estimators = 50, max_depth = 4\n",
      "\n"
     ]
    }
   ],
   "source": [
    "#--- 1. Tune Bagging Classifier Parameters ---#\n",
    "\n",
    "best_bag_dev_acc = 0\n",
    "best_bag_params = None  # To store (n_estimators, base_estimator max_depth)\n",
    "\n",
    "# For bagging, we vary both the number of estimators and the max_depth of the base decision tree\n",
    "for n in [50, 100, 150, 200]:\n",
    "    for depth in [3, 4, 5, 6]:\n",
    "        base = DecisionTreeClassifier(max_depth=depth, random_state=rseed)\n",
    "        bag_clf = BaggingClassifier(estimator=base, n_estimators=n, random_state=rseed)\n",
    "        bag_clf.fit(X_train, y_train)\n",
    "        bag_dev_acc = accuracy_score(y_dev, bag_clf.predict(X_dev))\n",
    "        if bag_dev_acc > best_bag_dev_acc:\n",
    "            best_bag_dev_acc = bag_dev_acc\n",
    "            best_bag_params = (n, depth)\n",
    "\n",
    "print(\"Bagging Classifier:\")\n",
    "print(f\"  Best Dev Accuracy: {best_bag_dev_acc:.4f}\")\n",
    "print(f\"  Best Params: n_estimators = {best_bag_params[0]}, max_depth (base) = { best_bag_params[1]}\\n\")\n",
    "\n",
    "#--- 2. Tune Random Forest Parameters ---#\n",
    "\n",
    "best_rf_dev_acc = 0\n",
    "best_rf_params = None  # To store (n_estimators, max_depth)\n",
    "\n",
    "for n in [50, 100, 150, 200]:\n",
    "    for depth in [3, 4, 5, 6, None]:\n",
    "        rf_clf = RandomForestClassifier(n_estimators=n, max_depth=depth, random_state=rseed)\n",
    "        rf_clf.fit(X_train, y_train)\n",
    "        rf_dev_acc = accuracy_score(y_dev, rf_clf.predict(X_dev))\n",
    "        if rf_dev_acc > best_rf_dev_acc:\n",
    "            best_rf_dev_acc = rf_dev_acc\n",
    "            best_rf_params = (n, depth)\n",
    "\n",
    "print(\"Random Forest:\")\n",
    "print(f\"  Best Dev Accuracy: {best_rf_dev_acc:.4f}\")\n",
    "print(f\"  Best Params: n_estimators = {best_rf_params[0]}, max_depth = {best_rf_params[1]}\\n\")\n",
    "\n",
    "#--- 3. Tune Gradient Boosting Parameters ---#\n",
    "\n",
    "best_gb_dev_acc = 0\n",
    "best_gb_params = None  # To store (n_estimators, max_depth)\n",
    "\n",
    "for n in [50, 100, 150, 200]:\n",
    "    for depth in [3, 4, 5, 6]:\n",
    "        gb_clf = GradientBoostingClassifier(n_estimators=n, max_depth=depth, learning_rate=0.1, random_state=rseed)\n",
    "        gb_clf.fit(X_train, y_train)\n",
    "        gb_dev_acc = accuracy_score(y_dev, gb_clf.predict(X_dev))\n",
    "        if gb_dev_acc > best_gb_dev_acc:\n",
    "            best_gb_dev_acc = gb_dev_acc\n",
    "            best_gb_params = (n, depth)\n",
    "\n",
    "print(\"Gradient Boosting:\")\n",
    "print(f\"  Best Dev Accuracy: {best_gb_dev_acc:.4f}\".format(best_gb_dev_acc))\n",
    "print(f\"  Best Params: n_estimators = {best_gb_params[0]}, max_depth = {best_gb_params[1]}\\n\")"
   ]
  },
  {
   "cell_type": "code",
   "execution_count": 19,
   "metadata": {},
   "outputs": [
    {
     "name": "stdout",
     "output_type": "stream",
     "text": [
      "Bagging Test Accuracy: 0.8045\n",
      "Random Forest Test Accuracy: 0.8156\n",
      "Gradient Boosting Test Accuracy: 0.8212\n"
     ]
    }
   ],
   "source": [
    "#--- 4. Evaluate Best Models on Test Set ---#\n",
    "\n",
    "# Retrain the best Bagging model and evaluate on test set\n",
    "base = DecisionTreeClassifier(max_depth=best_bag_params[1], random_state=rseed)\n",
    "best_bag_clf = BaggingClassifier(estimator=base, n_estimators=best_bag_params[0], random_state=rseed)\n",
    "best_bag_clf.fit(X_train, y_train)\n",
    "bag_test_acc = accuracy_score(y_test, best_bag_clf.predict(X_test))\n",
    "print(f\"Bagging Test Accuracy: {bag_test_acc:.4f}\")\n",
    "\n",
    "# Retrain the best Random Forest model and evaluate on test set\n",
    "best_rf_clf = RandomForestClassifier(n_estimators=best_rf_params[0], max_depth=best_rf_params[1], random_state=rseed)\n",
    "best_rf_clf.fit(X_train, y_train)\n",
    "rf_test_acc = accuracy_score(y_test, best_rf_clf.predict(X_test))\n",
    "print(f\"Random Forest Test Accuracy: {rf_test_acc:.4f}\")\n",
    "\n",
    "# Retrain the best Gradient Boosting model and evaluate on test set\n",
    "best_gb_clf = GradientBoostingClassifier(n_estimators=best_gb_params[0], max_depth=best_gb_params[1], learning_rate=0.1, random_state=rseed)\n",
    "best_gb_clf.fit(X_train, y_train)\n",
    "gb_test_acc = accuracy_score(y_test, best_gb_clf.predict(X_test))\n",
    "print(f\"Gradient Boosting Test Accuracy: {gb_test_acc:.4f}\")"
   ]
  },
  {
   "cell_type": "markdown",
   "metadata": {},
   "source": [
    "- Report the accuracy of all models and report which model performed the best, including the values for n_estimators and max_depth that the best model had."
   ]
  },
  {
   "cell_type": "code",
   "execution_count": 20,
   "metadata": {},
   "outputs": [
    {
     "name": "stdout",
     "output_type": "stream",
     "text": [
      "\n",
      "=== Model Comparison on Dev Set ===\n",
      "Bagging Dev Accuracy: 0.8539\n",
      "Random Forest Dev Accuracy: 0.8427\n",
      "Gradient Boosting Dev Accuracy: 0.8483\n",
      "\n",
      "Best Model on Dev Set: Bagging (n_estimators: 50, max_depth: 3)\n"
     ]
    }
   ],
   "source": [
    "#--- 5. Compare Models ---#\n",
    "\n",
    "print(\"\\n=== Model Comparison on Dev Set ===\")\n",
    "print(f\"Bagging Dev Accuracy: {best_bag_dev_acc:.4f}\")\n",
    "print(f\"Random Forest Dev Accuracy: {best_rf_dev_acc:.4f}\")\n",
    "print(f\"Gradient Boosting Dev Accuracy: {best_gb_dev_acc:.4f}\")\n",
    "\n",
    "# Determine the best model based on dev accuracy and store its parameters\n",
    "if best_bag_dev_acc >= best_rf_dev_acc and best_bag_dev_acc >= best_gb_dev_acc:\n",
    "    best_model = \"Bagging\"\n",
    "    best_params = best_bag_params  # (n_estimators, max_depth)\n",
    "elif best_rf_dev_acc >= best_bag_dev_acc and best_rf_dev_acc >= best_gb_dev_acc:\n",
    "    best_model = \"Random Forest\"\n",
    "    best_params = best_rf_params\n",
    "else:\n",
    "    best_model = \"Gradient Boosting\"\n",
    "    best_params = best_gb_params\n",
    "\n",
    "print(f\"\\nBest Model on Dev Set: {best_model} (n_estimators: {best_params[0]}, max_depth: {best_params[1]})\")"
   ]
  }
 ],
 "metadata": {
  "colab": {
   "provenance": []
  },
  "kernelspec": {
   "display_name": "Python 3",
   "language": "python",
   "name": "python3"
  },
  "language_info": {
   "codemirror_mode": {
    "name": "ipython",
    "version": 3
   },
   "file_extension": ".py",
   "mimetype": "text/x-python",
   "name": "python",
   "nbconvert_exporter": "python",
   "pygments_lexer": "ipython3",
   "version": "3.13.2"
  },
  "orig_nbformat": 4
 },
 "nbformat": 4,
 "nbformat_minor": 0
}
